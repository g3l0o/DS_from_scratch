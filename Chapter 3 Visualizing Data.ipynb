{
 "cells": [
  {
   "cell_type": "markdown",
   "metadata": {},
   "source": [
    "# Chapter 3: Visualizing Data"
   ]
  },
  {
   "cell_type": "markdown",
   "metadata": {},
   "source": [
    "Creating a simple plot"
   ]
  },
  {
   "cell_type": "code",
   "execution_count": null,
   "metadata": {
    "collapsed": true
   },
   "outputs": [],
   "source": [
    "#Plot example\n",
    "from matplotlib import pyplot as plt\n",
    "\n",
    "years = [1950, 1960, 1970, 1980, 1990, 2000, 2010]\n",
    "gdp = [300.2, 543.3, 1075.9, 2862.5, 5979.6, 10289.7, 14958.3]\n",
    "\n",
    "#create a small chart\n",
    "#years on x-axis\n",
    "#gdp on y-axis\n",
    "\n",
    "plt.plot(years, gdp, \n",
    "         color='green', \n",
    "         marker='o', \n",
    "         linestyle='solid')\n",
    "#title\n",
    "plt.title(\"Nominal GDP\")\n",
    "\n",
    "#label on y-axis\n",
    "plt.ylabel(\"Billions of $\")\n",
    "\n",
    "plt.show()"
   ]
  },
  {
   "cell_type": "markdown",
   "metadata": {
    "slideshow": {
     "slide_type": "notes"
    }
   },
   "source": [
    "Bar charts"
   ]
  },
  {
   "cell_type": "code",
   "execution_count": 9,
   "metadata": {
    "collapsed": false
   },
   "outputs": [],
   "source": [
    "movies = [\"Annie Hall\", \n",
    "          \"Ben-Hur\",\n",
    "          \"Casablanca\",\n",
    "          \"Gandhi\",\n",
    "          \"West Side Story\"]\n",
    "num_oscars = [5, 11, 3, 8, 10]\n",
    "\n",
    "#bars are for default 0.8, we'll add 0.1 to the left so\n",
    "#the bars are centered\n",
    "\n",
    "xs = [i + 0.1 for i, _ in enumerate(movies)]\n",
    "\n",
    "#plot bars with left x-coordinates [xs]\n",
    "#height [num, oscars]\n",
    "plt.bar(xs, num_oscars)\n",
    "plt.ylabel(\"# of Academy Awards\")\n",
    "plt.title (\"My favorite Movies\")\n",
    "\n",
    "#label at x-axis with movie names at bar centers\n",
    "plt.xticks([i + 0.5 for i, _ in enumerate(movies)], movies)\n",
    "\n",
    "plt.show()"
   ]
  },
  {
   "cell_type": "markdown",
   "metadata": {},
   "source": [
    "    Line chart"
   ]
  },
  {
   "cell_type": "code",
   "execution_count": 13,
   "metadata": {
    "collapsed": false
   },
   "outputs": [],
   "source": [
    "variance = [1, 2, 4, 8, 16, 32, 64, 128, 256]\n",
    "bias_squared = [256, 128, 64, 32, 16, 8, 4, 2, 1]\n",
    "\n",
    "total_error = [x + y for x, y in zip(variance, bias_squared)]\n",
    "\n",
    "xs = [i for i, _ in enumerate(variance)]\n",
    "\n",
    "#we will make a lot of plots calling plt.plot\n",
    "\n",
    "plt.plot(xs, variance, 'g-', label = 'variance') #green solid line\n",
    "plt.plot(xs, bias_squared, 'r-.', label='bias^2')  #red dot dashed line\n",
    "plt.plot(xs, total_error, 'b:', label='total error') #blue dotted line\n",
    "\n",
    "#loc=9 means 'top center'\n",
    "plt.legend(loc=9)\n",
    "plt.xlabel(\"model complexity\")\n",
    "plt.title(\"The Bias Variance Tradeoff\")\n",
    "plt.show()"
   ]
  },
  {
   "cell_type": "markdown",
   "metadata": {},
   "source": [
    "    Scatterplots"
   ]
  },
  {
   "cell_type": "code",
   "execution_count": 18,
   "metadata": {
    "collapsed": false
   },
   "outputs": [],
   "source": [
    "friends = [70, 65, 72, 63, 71, 64, 60, 64, 67]\n",
    "minutes = [175, 170, 205, 120, 220, 130, 105, 145, 190]\n",
    "labels = ['a', 'b', 'c', 'd', 'e', 'f', 'g', 'h', 'i']\n",
    "\n",
    "plt.scatter(friends, minutes)\n",
    "\n",
    "#label each point\n",
    "for label, friend_count, minute_count in zip(labels, friends, minutes):\n",
    "    plt.annotate(label,\n",
    "                 xy = (friend_count, minute_count), #put the label with its points\n",
    "                 xytext = (5, -5), # but slightly offset\n",
    "                 textcoords = 'offset points')\n",
    "plt.title(\"Daily Minutes vs. Number of Friends\")\n",
    "plt.xlabel(\"# of friends\")\n",
    "plt.ylabel(\"daily minutes spent on the site\")\n",
    "plt.show()\n"
   ]
  }
 ],
 "metadata": {
  "kernelspec": {
   "display_name": "Python 2",
   "language": "python",
   "name": "python2"
  },
  "language_info": {
   "codemirror_mode": {
    "name": "ipython",
    "version": 2
   },
   "file_extension": ".py",
   "mimetype": "text/x-python",
   "name": "python",
   "nbconvert_exporter": "python",
   "pygments_lexer": "ipython2",
   "version": "2.7.11"
  }
 },
 "nbformat": 4,
 "nbformat_minor": 0
}
